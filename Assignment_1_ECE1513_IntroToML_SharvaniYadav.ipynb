{
  "nbformat": 4,
  "nbformat_minor": 0,
  "metadata": {
    "colab": {
      "provenance": [],
      "authorship_tag": "ABX9TyM6KcCBYnOHhun6OAs0ONn1",
      "include_colab_link": true
    },
    "kernelspec": {
      "name": "python3",
      "display_name": "Python 3"
    },
    "language_info": {
      "name": "python"
    }
  },
  "cells": [
    {
      "cell_type": "markdown",
      "metadata": {
        "id": "view-in-github",
        "colab_type": "text"
      },
      "source": [
        "<a href=\"https://colab.research.google.com/github/sharvaniyadav/Assignment-1-ECE1513-Intro-To-ML/blob/main/Assignment_1_ECE1513_IntroToML_SharvaniYadav.ipynb\" target=\"_parent\"><img src=\"https://colab.research.google.com/assets/colab-badge.svg\" alt=\"Open In Colab\"/></a>"
      ]
    },
    {
      "cell_type": "code",
      "execution_count": 3,
      "metadata": {
        "id": "X2AntL4JgzRS",
        "colab": {
          "base_uri": "https://localhost:8080/"
        },
        "outputId": "e2410c4a-6b73-4111-903e-9cd6e55e9e6b"
      },
      "outputs": [
        {
          "output_type": "stream",
          "name": "stdout",
          "text": [
            "=== DATASET LOADED ===\n",
            "Shape of X (rows, columns): (569, 30)\n",
            "First row of raw data (before standardization):\n",
            "[1.799e+01 1.038e+01 1.228e+02 1.001e+03 1.184e-01 2.776e-01 3.001e-01\n",
            " 1.471e-01 2.419e-01 7.871e-02 1.095e+00 9.053e-01 8.589e+00 1.534e+02\n",
            " 6.399e-03 4.904e-02 5.373e-02 1.587e-02 3.003e-02 6.193e-03 2.538e+01\n",
            " 1.733e+01 1.846e+02 2.019e+03 1.622e-01 6.656e-01 7.119e-01 2.654e-01\n",
            " 4.601e-01 1.189e-01]\n",
            "\n"
          ]
        }
      ],
      "source": [
        "# Course: ECE1513 Introduction to Machine Learning (Fall 2025)\n",
        "# Assignment 1\n",
        "# Student Name: Sharvani Yadav\n",
        "# Student Number: 1008289870\n",
        "\n",
        "# Part 1: Clustering with k-means\n",
        "# This coded written below for Part 1 implements k-means clustering from scratch using only NumPy.\n",
        "# It uses an initialization method iscussed in class (sampled from the dataset) for reproducibility.\n",
        "# It will run the algorithm for k = 2..7, computes distortion, and plots an elbow curve.\n",
        "\n",
        "# -------------------------------------------------------------------------------------------------\n",
        "# Part 1.1: Implemented k-means using a single initialization method (sampling points from dataset)\n",
        "# -------------------------------------------------------------------------------------------------\n",
        "\n",
        "# Import needed libraries\n",
        "# numpy: for math with arrays\n",
        "# sklearn.datasets: to load the Breast Cancer dataset\n",
        "\n",
        "# -----------------------------\n",
        "# STEP 1: Load the dataset\n",
        "# -----------------------------\n",
        "from sklearn.datasets import load_breast_cancer\n",
        "\n",
        "# Loading the UCI ML Breast Cancer dataset\n",
        "data = load_breast_cancer()\n",
        "\n",
        "# Only needed the features (X) for clustering, not the labels\n",
        "X = data.data.astype(float)\n",
        "\n",
        "print(\"=== DATASET LOADED ===\")\n",
        "print(\"Shape of X (rows, columns):\", X.shape)   # should be 569 rows × 30 features\n",
        "print(\"First row of raw data (before standardization):\")\n",
        "print(X[0])  # just to see the numbers before I change anything\n",
        "print()\n",
        "\n"
      ]
    }
  ]
}